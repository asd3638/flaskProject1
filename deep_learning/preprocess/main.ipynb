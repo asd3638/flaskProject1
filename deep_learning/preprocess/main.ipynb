{
 "metadata": {
  "language_info": {
   "codemirror_mode": {
    "name": "ipython",
    "version": 3
   },
   "file_extension": ".py",
   "mimetype": "text/x-python",
   "name": "python",
   "nbconvert_exporter": "python",
   "pygments_lexer": "ipython3",
   "version": "3.8.11"
  },
  "orig_nbformat": 4,
  "kernelspec": {
   "name": "python3",
   "display_name": "Python 3.8.11 64-bit ('conda': conda)"
  },
  "interpreter": {
   "hash": "bb5a7e3273ef10f3162290e2abe58075066671a71cdcf85930b83a6ecbbb7720"
  }
 },
 "nbformat": 4,
 "nbformat_minor": 2,
 "cells": [
  {
   "cell_type": "code",
   "execution_count": 1,
   "metadata": {},
   "outputs": [
    {
     "output_type": "stream",
     "name": "stdout",
     "text": [
      "importing Jupyter notebook from data_reduction.ipynb\n"
     ]
    }
   ],
   "source": [
    "import import_ipynb\n",
    "import data_reduction as rd\n",
    "from glob import glob\n",
    "from ast import literal_eval\n",
    "import pandas as pd\n",
    "import os"
   ]
  },
  {
   "cell_type": "code",
   "execution_count": 2,
   "metadata": {},
   "outputs": [],
   "source": [
    "# \"라벨링데이터\" 하위에 있는 모든 json파일 읽어오기 (참고: https://blr.design/blog/python-multiple-json-to-csv)\n",
    "base = \"../../\" # 다운받은 k-fashion 데이터셋으로 가는 기본 경로 정의\n",
    "train_label_files = glob(os.path.join(base, \"k-fashion-dataset\", \"Training\", \"labels\", \"*\", \"*\"), recursive=True)\n",
    "valid_label_files = glob(os.path.join(base, \"k-fashion-dataset\", \"Validation\", \"labels\", \"*\", \"*\"), recursive=True)"
   ]
  },
  {
   "cell_type": "code",
   "execution_count": 3,
   "metadata": {},
   "outputs": [
    {
     "output_type": "stream",
     "name": "stdout",
     "text": [
      "707594 117916\n"
     ]
    }
   ],
   "source": [
    "print(len(train_label_files), len(valid_label_files))"
   ]
  },
  {
   "cell_type": "code",
   "execution_count": 11,
   "metadata": {},
   "outputs": [
    {
     "output_type": "stream",
     "name": "stderr",
     "text": [
      "100%|██████████| 100/100 [00:00<00:00, 1728.75it/s]\n",
      "READING EACH JSON FILE ALL DONE! Length of data is 101\n",
      "Saving data as CSV file...\n",
      "CSV saved in temp.csv\n",
      "\n"
     ]
    }
   ],
   "source": [
    "# 차례대로 해줘야 한다는 단점이...\n",
    "# rd.generate_csv_from_json_files(train_label_files[:100])\n",
    "rd.generate_csv_from_json_files(valid_label_files[:100])"
   ]
  },
  {
   "cell_type": "code",
   "execution_count": 12,
   "metadata": {},
   "outputs": [],
   "source": [
    "data = pd.read_csv(rd.TEMP_CSV_PATH,\n",
    "                    converters = {'Top': literal_eval},\n",
    "                    encoding='utf-8') # reading the csv file"
   ]
  },
  {
   "cell_type": "code",
   "execution_count": 18,
   "metadata": {},
   "outputs": [],
   "source": [
    "data"
   ]
  },
  {
   "cell_type": "code",
   "execution_count": 15,
   "metadata": {},
   "outputs": [
    {
     "output_type": "stream",
     "name": "stdout",
     "text": [
      "flattening columns...\ndropping columns we don't need...\none-hot encoding...\ntemp.csv file not found\nALL DONE!\n"
     ]
    }
   ],
   "source": [
    "reduced_data = rd.reduce_data(data)"
   ]
  },
  {
   "cell_type": "code",
   "execution_count": 19,
   "metadata": {},
   "outputs": [],
   "source": [
    "reduced_data"
   ]
  },
  {
   "cell_type": "code",
   "execution_count": 17,
   "metadata": {},
   "outputs": [
    {
     "output_type": "stream",
     "name": "stdout",
     "text": [
      "CSV Saved in ..\\input\\raw_valid.csv\n"
     ]
    }
   ],
   "source": [
    "raw_train_path = os.path.join(\"..\", \"input\", \"raw_train.csv\")\n",
    "raw_valid_path = os.path.join(\"..\", \"input\", \"raw_valid.csv\")\n",
    "# rd.save_csv(reduced_train, raw_train_path)\n",
    "rd.save_csv(reduced_train, raw_valid_path)"
   ]
  }
 ]
}