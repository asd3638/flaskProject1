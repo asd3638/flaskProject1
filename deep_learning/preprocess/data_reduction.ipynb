{
 "cells": [
  {
   "cell_type": "code",
   "execution_count": 1,
   "id": "ac48e8af",
   "metadata": {},
   "outputs": [],
   "source": [
    "from tqdm import tqdm\n",
    "import pandas as pd\n",
    "import json\n",
    "import csv\n",
    "import os"
   ]
  },
  {
   "cell_type": "code",
   "execution_count": 2,
   "metadata": {},
   "outputs": [],
   "source": [
    "TEMP_CSV_PATH = \"temp.csv\""
   ]
  },
  {
   "cell_type": "code",
   "execution_count": 3,
   "id": "43a24b74",
   "metadata": {},
   "outputs": [],
   "source": [
    "# 읽어온 각각의 json을 필요한 정보만 뽑아서 row 하나로 만들기\n",
    "def generate_csv_from_json_files(files):\n",
    "    data = []\n",
    "    for single_file in tqdm(files):\n",
    "        with open(single_file, 'r', encoding='utf-8') as f:\n",
    "            # Use 'try-except' to skip files that may be missing data\n",
    "            try:\n",
    "                json_file = json.load(f)\n",
    "                file_id = json_file[\"데이터셋 정보\"][\"파일 번호\"]\n",
    "                file_name = json_file[\"데이터셋 정보\"][\"파일 이름\"]\n",
    "                top = json_file[\"데이터셋 정보\"][\"데이터셋 상세설명\"][\"라벨링\"][\"상의\"][0] # 상의만 가져올 것임\n",
    "                data.append([file_id, file_name, top])\n",
    "            except KeyError:\n",
    "                print(f'Skipping {single_file}')\n",
    "    # Add header\n",
    "    data.insert(0, ['ID', 'File Name', 'Top'])\n",
    "    print(\"\\nREADING EACH JSON FILE ALL DONE! Length of data is\", len(data))\n",
    "\n",
    "    # csv로 변환\n",
    "    print(\"Saving data as CSV file...\")\n",
    "    with open(TEMP_CSV_PATH, \"w\", encoding='utf-8', newline=\"\") as f:\n",
    "        writer = csv.writer(f)\n",
    "        writer.writerows(data)\n",
    "    print(f\"CSV saved in {TEMP_CSV_PATH}\")"
   ]
  },
  {
   "cell_type": "code",
   "execution_count": 4,
   "metadata": {},
   "outputs": [],
   "source": [
    "def reduce_data(csv):\n",
    "    # csv칼럼 내부 json 객체 flatten하기\n",
    "    # https://stackoverflow.com/questions/39899005/how-to-flatten-a-pandas-dataframe-with-some-columns-as-json\n",
    "    print(\"flattening columns...\")\n",
    "    TOP = pd.json_normalize(csv[\"Top\"])\n",
    "    flattened = csv[['ID', 'File Name']].join(TOP)\n",
    "\n",
    "    # 우리 모델에 필요한 칼럼만 남기기\n",
    "    print(\"dropping columns we don't need...\")\n",
    "    dropped = flattened[['ID', 'File Name', '카테고리','소매기장']]\n",
    "\n",
    "    # one-hot 인코딩 하기\n",
    "    print(\"one-hot encoding...\")\n",
    "    pd.set_option('display.max_columns', None)\n",
    "    targets = dropped.columns[2:]\n",
    "    final = pd.get_dummies(dropped, columns=targets, prefix_sep=\"_\")\n",
    "\n",
    "    # 기존에 사용한 파일 이제 무쓸모니까 삭제하기\n",
    "    if(os.path.exists(TEMP_CSV_PATH) and os.path.isfile(TEMP_CSV_PATH)):\n",
    "        os.remove(TEMP_CSV_PATH)\n",
    "        print(f\"{TEMP_CSV_PATH} file deleted\")\n",
    "    else:\n",
    "        print(f\"{TEMP_CSV_PATH} file not found\")\n",
    "    \n",
    "    print(\"ALL DONE!\")\n",
    "    return final"
   ]
  },
  {
   "cell_type": "code",
   "execution_count": 5,
   "metadata": {},
   "outputs": [],
   "source": [
    "def save_csv(csv, path):\n",
    "    csv.to_csv(path,\n",
    "                index = False,\n",
    "                encoding='utf-8-sig')\n",
    "    print(f\"CSV Saved in {path}\")"
   ]
  }
 ],
 "metadata": {
  "kernelspec": {
   "name": "python3",
   "display_name": "Python 3.8.11 64-bit ('conda': conda)"
  },
  "language_info": {
   "codemirror_mode": {
    "name": "ipython",
    "version": 3
   },
   "file_extension": ".py",
   "mimetype": "text/x-python",
   "name": "python",
   "nbconvert_exporter": "python",
   "pygments_lexer": "ipython3",
   "version": "3.8.11"
  },
  "interpreter": {
   "hash": "bb5a7e3273ef10f3162290e2abe58075066671a71cdcf85930b83a6ecbbb7720"
  }
 },
 "nbformat": 4,
 "nbformat_minor": 5
}